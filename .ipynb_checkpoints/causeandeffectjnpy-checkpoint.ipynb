{
 "cells": [
  {
   "cell_type": "code",
   "execution_count": 1,
   "metadata": {},
   "outputs": [],
   "source": [
    "import xlsxwriter\n",
    "import pandas as pd\n",
    "import numpy as np\n",
    "import os\n",
    "\n",
    "spspfilepath = os.getcwd()+'//testing_files//PG2_GC_MP.csv'\n",
    "rprelayfilepath = os.getcwd()+'//testing_files//PG2_GC_Relay.csv'\n",
    "syssystemfilepath = os.getcwd()+'//testing_files//PG2_GC_System.csv'\n",
    "\n",
    "filen = 'Cause_and_Effect_Matrix.xlsx'\n",
    "workbook = xlsxwriter.Workbook(filen)\n",
    "ws = workbook.add_worksheet()\n",
    "data = pd.read_csv(spspfilepath,sep = ';')\n",
    "data = data[data.Active != 0]\n",
    "relaydata = pd.read_csv(rprelayfilepath, sep = ';')\n",
    "sysdata = pd.read_csv(syssystemfilepath, sep = ';', error_bad_lines = False, skiprows = 22, header = None)"
   ]
  },
  {
   "cell_type": "code",
   "execution_count": 2,
   "metadata": {},
   "outputs": [],
   "source": [
    "ws.set_paper(8)\n",
    "ws.set_landscape()\n",
    "ws.set_page_view()\n",
    "ws.set_margins(top=1.60, left=0.36, right=0.36, bottom=1.0)"
   ]
  },
  {
   "cell_type": "code",
   "execution_count": 3,
   "metadata": {},
   "outputs": [],
   "source": [
    "normal = workbook.add_format()\n",
    "normal.set_align('left')\n",
    "normal.set_align('vcenter')\n",
    "\n",
    "alarmheading = workbook.add_format()\n",
    "alarmheading.set_align('center')\n",
    "alarmheading.set_align('vcenter')\n",
    "alarmheading.set_left( 2 )\n",
    "alarmheading.set_right( 2 )\n",
    "alarmheading.set_bottom( 2 )\n",
    "\n",
    "\n",
    "yes_active = workbook.add_format()\n",
    "yes_active.set_align('center')\n",
    "yes_active.set_align('vcenter')\n",
    "yes_active.set_border(style=1)\n",
    "yes_active.set_align('center')\n",
    "yes_active.set_fg_color('#ff0000')\n",
    "\n",
    "not_active = workbook.add_format()\n",
    "not_active.set_align('center')\n",
    "not_active.set_align('vcenter')\n",
    "not_active.set_border(style=1)\n",
    "not_active.set_align('center')\n",
    "not_active.set_fg_color('#32cd32')\n",
    "\n",
    "mutable_active = workbook.add_format()\n",
    "mutable_active.set_align('center')\n",
    "mutable_active.set_align('vcenter')\n",
    "mutable_active.set_border(style=1)\n",
    "mutable_active.set_align('center')\n",
    "mutable_active.set_fg_color('#0000FF')"
   ]
  },
  {
   "cell_type": "code",
   "execution_count": 4,
   "metadata": {},
   "outputs": [],
   "source": [
    "data['Alarm1'] = data.agg('{0[Device.1]} {0[Alarm1]}'.format, axis=1)\n",
    "alarm1= data.Alarm1.unique()"
   ]
  },
  {
   "cell_type": "code",
   "execution_count": 5,
   "metadata": {},
   "outputs": [],
   "source": [
    "data['Alarm2'] = data.agg('{0[Device.2]} {0[Alarm2]}'.format, axis=1)\n",
    "alarm2 = data.Alarm2.unique()"
   ]
  },
  {
   "cell_type": "code",
   "execution_count": 6,
   "metadata": {},
   "outputs": [],
   "source": [
    "data['Alarm3'] = data.agg('{0[Device.3]} {0[Alarm3]}'.format, axis=1)\n",
    "alarm3=data.Alarm3.unique()"
   ]
  },
  {
   "cell_type": "code",
   "execution_count": 7,
   "metadata": {},
   "outputs": [],
   "source": [
    "data['Alarm4'] = data.agg('{0[Device.4]} {0[Alarm4]}'.format, axis=1)\n",
    "alarm4=data.Alarm4.unique()"
   ]
  },
  {
   "cell_type": "code",
   "execution_count": 8,
   "metadata": {},
   "outputs": [],
   "source": [
    "alarmcount = [len(alarm1),len(alarm2),len(alarm3),len(alarm4)]"
   ]
  },
  {
   "cell_type": "code",
   "execution_count": 9,
   "metadata": {},
   "outputs": [],
   "source": [
    "maxalarmcount = max (alarmcount) -1"
   ]
  },
  {
   "cell_type": "code",
   "execution_count": 10,
   "metadata": {},
   "outputs": [],
   "source": [
    "if len(alarm1)==(maxalarmcount+1):\n",
    "    alarm1=alarm1\n",
    "else:\n",
    "    alarm1app = [None] * (len(alarm1)-(maxalarmcount+1))"
   ]
  },
  {
   "cell_type": "code",
   "execution_count": 11,
   "metadata": {},
   "outputs": [],
   "source": [
    "muterelays = relaydata.loc[relaydata['Active'] == 1, :]"
   ]
  },
  {
   "cell_type": "code",
   "execution_count": 12,
   "metadata": {},
   "outputs": [],
   "source": [
    "muterelays = muterelays.loc[muterelays['Reset via DI'] == 1,:]"
   ]
  },
  {
   "cell_type": "code",
   "execution_count": 13,
   "metadata": {},
   "outputs": [],
   "source": [
    "muterelays['Device'] = muterelays.agg(lambda x: f\"{x['Device']} {x['Address']}\", axis = 1)"
   ]
  },
  {
   "cell_type": "code",
   "execution_count": 14,
   "metadata": {},
   "outputs": [],
   "source": [
    "muterelays = muterelays['Device'].values.tolist()"
   ]
  },
  {
   "cell_type": "code",
   "execution_count": 15,
   "metadata": {},
   "outputs": [],
   "source": [
    "ext_relays = relaydata.loc[(relaydata['Manual ON via DI'] != 0) & (relaydata['Active'] == 1)]\n"
   ]
  },
  {
   "cell_type": "code",
   "execution_count": null,
   "metadata": {},
   "outputs": [],
   "source": []
  },
  {
   "cell_type": "code",
   "execution_count": null,
   "metadata": {},
   "outputs": [],
   "source": []
  },
  {
   "cell_type": "code",
   "execution_count": null,
   "metadata": {},
   "outputs": [],
   "source": []
  },
  {
   "cell_type": "code",
   "execution_count": 16,
   "metadata": {},
   "outputs": [
    {
     "name": "stderr",
     "output_type": "stream",
     "text": [
      "C:\\Anaconda3\\lib\\site-packages\\ipykernel_launcher.py:1: SettingWithCopyWarning: \n",
      "A value is trying to be set on a copy of a slice from a DataFrame.\n",
      "Try using .loc[row_indexer,col_indexer] = value instead\n",
      "\n",
      "See the caveats in the documentation: https://pandas.pydata.org/pandas-docs/stable/user_guide/indexing.html#returning-a-view-versus-a-copy\n",
      "  \"\"\"Entry point for launching an IPython kernel.\n",
      "C:\\Anaconda3\\lib\\site-packages\\ipykernel_launcher.py:2: SettingWithCopyWarning: \n",
      "A value is trying to be set on a copy of a slice from a DataFrame.\n",
      "Try using .loc[row_indexer,col_indexer] = value instead\n",
      "\n",
      "See the caveats in the documentation: https://pandas.pydata.org/pandas-docs/stable/user_guide/indexing.html#returning-a-view-versus-a-copy\n",
      "  \n"
     ]
    }
   ],
   "source": [
    "ext_relays['Manual ON via DI'] = ext_relays.agg(lambda x: f\"{'External Digital Input'} {x['Manual ON via DI']}\", axis = 1)\n",
    "ext_relays['Address'] = ext_relays.agg(lambda x: f\"{x['Device']} {x['Address']}\", axis = 1)"
   ]
  },
  {
   "cell_type": "code",
   "execution_count": 17,
   "metadata": {},
   "outputs": [],
   "source": [
    "ext_relays = ext_relays.drop(columns = ['Active',\n",
    "                                       'Device',\n",
    "                                       'Device.1',\n",
    "                                       'Energized',\n",
    "                                       'Flash',\n",
    "                                       'Remote',\n",
    "                                       'Alarm Voiting Quantitiy',\n",
    "                                       'Device.2',\n",
    "                                       'Manual OFF via DI',\n",
    "                                       'On-delay Time[sec.]',\n",
    "                                       'Off-delay Time[sec.]', \n",
    "                                       'Automatic Recurrence',\n",
    "                                       'Automatic Time[sec.]',\n",
    "                                       'Device.3',\n",
    "                                       'Reset via DI',\n",
    "                                       'Activate on Error',\n",
    "                                       'Activate on Maintenance'])"
   ]
  },
  {
   "cell_type": "code",
   "execution_count": 18,
   "metadata": {},
   "outputs": [],
   "source": [
    "sysdata = sysdata[2:21]"
   ]
  },
  {
   "cell_type": "code",
   "execution_count": 19,
   "metadata": {},
   "outputs": [],
   "source": [
    "sysdata['input'] = sysdata.agg(lambda x: f\"{x[1]} {x[2]}\", axis = 1)\n",
    "sysdata['output'] = sysdata.agg(lambda x: f\"{x[3]} {x[4]}\", axis = 1)\n"
   ]
  },
  {
   "cell_type": "code",
   "execution_count": 20,
   "metadata": {},
   "outputs": [],
   "source": [
    "sysdata = sysdata.drop(columns = [0, 1, 2, 3, 4])\n"
   ]
  },
  {
   "cell_type": "code",
   "execution_count": 21,
   "metadata": {},
   "outputs": [],
   "source": [
    "sysdata = sysdata.loc[sysdata['input'] != 'AR 0']\n",
    "sysdata = sysdata.loc[sysdata['input'] != 'SR 0']"
   ]
  },
  {
   "cell_type": "code",
   "execution_count": null,
   "metadata": {},
   "outputs": [],
   "source": []
  },
  {
   "cell_type": "code",
   "execution_count": 22,
   "metadata": {},
   "outputs": [],
   "source": [
    "alarm = np.append(alarm1, alarm2, axis = 0)\n"
   ]
  },
  {
   "cell_type": "code",
   "execution_count": 23,
   "metadata": {},
   "outputs": [],
   "source": [
    "alarm = np.append(alarm, alarm3, axis = 0)\n"
   ]
  },
  {
   "cell_type": "code",
   "execution_count": 24,
   "metadata": {},
   "outputs": [],
   "source": [
    "alarm = np.append(alarm, alarm4, axis =0)"
   ]
  },
  {
   "cell_type": "code",
   "execution_count": 25,
   "metadata": {},
   "outputs": [],
   "source": [
    "alarm = pd.DataFrame(alarm)"
   ]
  },
  {
   "cell_type": "code",
   "execution_count": 26,
   "metadata": {},
   "outputs": [],
   "source": [
    "active = data.loc[data['Active'] ==1,:]"
   ]
  },
  {
   "cell_type": "code",
   "execution_count": 27,
   "metadata": {},
   "outputs": [],
   "source": [
    "active.loc[active.Device == 'DP', 'Device'] = 'Digital'\n",
    "active.loc[active.Device == 'AP', 'Device'] = 'Analog'"
   ]
  },
  {
   "cell_type": "code",
   "execution_count": 28,
   "metadata": {},
   "outputs": [],
   "source": [
    "active['Measuring Range'] = active.agg(lambda x: f\"{x['Measuring Range']} {x['Unit']}\", axis = 1)\n",
    "active['Threshold1'] = active.agg(lambda x: f\"{x['Threshold1']} {x['Unit']}\", axis = 1)\n",
    "active['Threshold2'] = active.agg(lambda x: f\"{x['Threshold2']} {x['Unit']}\", axis = 1)\n",
    "active['Threshold3'] = active.agg(lambda x: f\"{x['Threshold3']} {x['Unit']}\", axis = 1)\n",
    "active['Threshold4'] = active.agg(lambda x: f\"{x['Threshold4']} {x['Unit']}\", axis = 1)\n",
    "active['Gas Type'] = active.agg(lambda x: f\"0 - {x['Measuring Range']} {x['Gas Type']}\", axis = 1)"
   ]
  },
  {
   "cell_type": "code",
   "execution_count": 29,
   "metadata": {},
   "outputs": [],
   "source": [
    "active = active.drop(columns = ['Unit',\n",
    "                                'Measuring Range',\n",
    "                                'Active',\n",
    "                                'Unlock',\n",
    "                                'Nomenclature',\n",
    "                                'CV1', \n",
    "                                'AF1',\n",
    "                                'CV2', \n",
    "                                'AF2',\n",
    "                                'CV3', \n",
    "                                'AF3', \n",
    "                                'CV4', \n",
    "                                'AF4',\n",
    "                                'Hysteresis',\n",
    "                                'CV alarm on-delay', \n",
    "                                'CV alarm off-delay', \n",
    "                                'AV Overlay',\n",
    "                                'Latching1',\n",
    "                                'Latching2',\n",
    "                                'Latching3',\n",
    "                                'Latching4',\n",
    "                                'Fault1',\n",
    "                                'Fault2',\n",
    "                                'Fault3',\n",
    "                                'Fault4',\n",
    "                                'Device.1',\n",
    "                                'Device.2',\n",
    "                                'Device.3',\n",
    "                                'Device.4',\n",
    "                                'AO1',\n",
    "                                'AO2'])\n",
    "\n"
   ]
  },
  {
   "cell_type": "code",
   "execution_count": null,
   "metadata": {},
   "outputs": [],
   "source": []
  },
  {
   "cell_type": "code",
   "execution_count": null,
   "metadata": {},
   "outputs": [],
   "source": []
  },
  {
   "cell_type": "code",
   "execution_count": 30,
   "metadata": {},
   "outputs": [
    {
     "data": {
      "text/html": [
       "<div>\n",
       "<style scoped>\n",
       "    .dataframe tbody tr th:only-of-type {\n",
       "        vertical-align: middle;\n",
       "    }\n",
       "\n",
       "    .dataframe tbody tr th {\n",
       "        vertical-align: top;\n",
       "    }\n",
       "\n",
       "    .dataframe thead th {\n",
       "        text-align: right;\n",
       "    }\n",
       "</style>\n",
       "<table border=\"1\" class=\"dataframe\">\n",
       "  <thead>\n",
       "    <tr style=\"text-align: right;\">\n",
       "      <th></th>\n",
       "      <th>Device</th>\n",
       "      <th>Address</th>\n",
       "      <th>Gas Type</th>\n",
       "      <th>Threshold1</th>\n",
       "      <th>Threshold2</th>\n",
       "      <th>Threshold3</th>\n",
       "      <th>Threshold4</th>\n",
       "      <th>Alarm1</th>\n",
       "      <th>Alarm2</th>\n",
       "      <th>Alarm3</th>\n",
       "      <th>Alarm4</th>\n",
       "    </tr>\n",
       "  </thead>\n",
       "  <tbody>\n",
       "    <tr>\n",
       "      <th>0</th>\n",
       "      <td>Digital</td>\n",
       "      <td>1</td>\n",
       "      <td>0 - 100 %LEL Methane</td>\n",
       "      <td>15.0 %LEL</td>\n",
       "      <td>15.0 %LEL</td>\n",
       "      <td>25.0 %LEL</td>\n",
       "      <td>25.0 %LEL</td>\n",
       "      <td>AR 3</td>\n",
       "      <td>AR 5</td>\n",
       "      <td>AR 6</td>\n",
       "      <td>SR 51</td>\n",
       "    </tr>\n",
       "    <tr>\n",
       "      <th>1</th>\n",
       "      <td>Digital</td>\n",
       "      <td>2</td>\n",
       "      <td>0 - 150 ppm Carbon monoxide</td>\n",
       "      <td>20.0 ppm</td>\n",
       "      <td>20.0 ppm</td>\n",
       "      <td>30.0 ppm</td>\n",
       "      <td>30.0 ppm</td>\n",
       "      <td>AR 2</td>\n",
       "      <td>AR 5</td>\n",
       "      <td>AR 6</td>\n",
       "      <td>SR 53</td>\n",
       "    </tr>\n",
       "    <tr>\n",
       "      <th>2</th>\n",
       "      <td>Digital</td>\n",
       "      <td>3</td>\n",
       "      <td>0 - 25 %Vol Oxygen</td>\n",
       "      <td>19.5 %Vol</td>\n",
       "      <td>19.5 %Vol</td>\n",
       "      <td>18.5 %Vol</td>\n",
       "      <td>18.5 %Vol</td>\n",
       "      <td>AR 4</td>\n",
       "      <td>AR 5</td>\n",
       "      <td>AR 6</td>\n",
       "      <td>SR 50</td>\n",
       "    </tr>\n",
       "    <tr>\n",
       "      <th>3</th>\n",
       "      <td>Digital</td>\n",
       "      <td>4</td>\n",
       "      <td>0 - 100 %LEL Methane</td>\n",
       "      <td>15.0 %LEL</td>\n",
       "      <td>15.0 %LEL</td>\n",
       "      <td>25.0 %LEL</td>\n",
       "      <td>25.0 %LEL</td>\n",
       "      <td>AR 3</td>\n",
       "      <td>AR 5</td>\n",
       "      <td>AR 6</td>\n",
       "      <td>SR 51</td>\n",
       "    </tr>\n",
       "    <tr>\n",
       "      <th>4</th>\n",
       "      <td>Digital</td>\n",
       "      <td>5</td>\n",
       "      <td>0 - 150 ppm Carbon monoxide</td>\n",
       "      <td>20.0 ppm</td>\n",
       "      <td>20.0 ppm</td>\n",
       "      <td>30.0 ppm</td>\n",
       "      <td>30.0 ppm</td>\n",
       "      <td>AR 2</td>\n",
       "      <td>AR 5</td>\n",
       "      <td>AR 6</td>\n",
       "      <td>SR 53</td>\n",
       "    </tr>\n",
       "  </tbody>\n",
       "</table>\n",
       "</div>"
      ],
      "text/plain": [
       "    Device  Address                     Gas Type Threshold1 Threshold2  \\\n",
       "0  Digital        1         0 - 100 %LEL Methane  15.0 %LEL  15.0 %LEL   \n",
       "1  Digital        2  0 - 150 ppm Carbon monoxide   20.0 ppm   20.0 ppm   \n",
       "2  Digital        3           0 - 25 %Vol Oxygen  19.5 %Vol  19.5 %Vol   \n",
       "3  Digital        4         0 - 100 %LEL Methane  15.0 %LEL  15.0 %LEL   \n",
       "4  Digital        5  0 - 150 ppm Carbon monoxide   20.0 ppm   20.0 ppm   \n",
       "\n",
       "  Threshold3 Threshold4 Alarm1 Alarm2 Alarm3 Alarm4  \n",
       "0  25.0 %LEL  25.0 %LEL   AR 3   AR 5   AR 6  SR 51  \n",
       "1   30.0 ppm   30.0 ppm   AR 2   AR 5   AR 6  SR 53  \n",
       "2  18.5 %Vol  18.5 %Vol   AR 4   AR 5   AR 6  SR 50  \n",
       "3  25.0 %LEL  25.0 %LEL   AR 3   AR 5   AR 6  SR 51  \n",
       "4   30.0 ppm   30.0 ppm   AR 2   AR 5   AR 6  SR 53  "
      ]
     },
     "execution_count": 30,
     "metadata": {},
     "output_type": "execute_result"
    }
   ],
   "source": [
    "active.head()"
   ]
  },
  {
   "cell_type": "code",
   "execution_count": 31,
   "metadata": {},
   "outputs": [],
   "source": [
    "active = active.values.tolist()"
   ]
  },
  {
   "cell_type": "code",
   "execution_count": null,
   "metadata": {},
   "outputs": [],
   "source": []
  },
  {
   "cell_type": "code",
   "execution_count": 32,
   "metadata": {},
   "outputs": [],
   "source": [
    "alarm_unique = alarm.loc[:,0].unique()"
   ]
  },
  {
   "cell_type": "code",
   "execution_count": 33,
   "metadata": {},
   "outputs": [],
   "source": [
    "alarm_unique = np.append(alarm_unique, ext_relays['Address'].values)"
   ]
  },
  {
   "cell_type": "code",
   "execution_count": 34,
   "metadata": {},
   "outputs": [],
   "source": [
    "alarm_unique = np.unique(alarm_unique)\n"
   ]
  },
  {
   "cell_type": "code",
   "execution_count": 37,
   "metadata": {},
   "outputs": [],
   "source": [
    "### Check that sysdata relays are active ###\n"
   ]
  },
  {
   "cell_type": "code",
   "execution_count": 38,
   "metadata": {},
   "outputs": [],
   "source": [
    "active_relays = relaydata.loc[relaydata['Active'] ==1,:].agg(lambda x: f\"{x['Device']} {x['Address']}\", axis = 1)"
   ]
  },
  {
   "cell_type": "code",
   "execution_count": 39,
   "metadata": {},
   "outputs": [],
   "source": [
    "active_relays = active_relays.values"
   ]
  },
  {
   "cell_type": "code",
   "execution_count": 40,
   "metadata": {},
   "outputs": [],
   "source": [
    "sysdata = sysdata.values"
   ]
  },
  {
   "cell_type": "code",
   "execution_count": 41,
   "metadata": {},
   "outputs": [
    {
     "data": {
      "text/plain": [
       "array(['SR 50', 'SR 51', 'SR 53', 'SR 54', 'SR 65', 'SR 75', 'AR 1',\n",
       "       'AR 2', 'AR 3', 'AR 4', 'AR 5', 'AR 6', 'AR 7', 'AR 8'],\n",
       "      dtype=object)"
      ]
     },
     "execution_count": 41,
     "metadata": {},
     "output_type": "execute_result"
    }
   ],
   "source": [
    "active_relays"
   ]
  },
  {
   "cell_type": "code",
   "execution_count": null,
   "metadata": {},
   "outputs": [],
   "source": []
  },
  {
   "cell_type": "code",
   "execution_count": null,
   "metadata": {},
   "outputs": [],
   "source": []
  },
  {
   "cell_type": "markdown",
   "metadata": {},
   "source": [
    "# RELAY MULTIPLICATION BLOCK"
   ]
  },
  {
   "cell_type": "code",
   "execution_count": 42,
   "metadata": {},
   "outputs": [],
   "source": [
    "### following code checks whether relays are active ###"
   ]
  },
  {
   "cell_type": "code",
   "execution_count": 43,
   "metadata": {},
   "outputs": [
    {
     "data": {
      "text/plain": [
       "array(['SR 51', 'AR 3', 'AR 4', 'AR 2', 'SR 51'], dtype=object)"
      ]
     },
     "execution_count": 43,
     "metadata": {},
     "output_type": "execute_result"
    }
   ],
   "source": [
    "sysdata[:,0]"
   ]
  },
  {
   "cell_type": "code",
   "execution_count": 44,
   "metadata": {},
   "outputs": [
    {
     "data": {
      "text/plain": [
       "array(['SR 54', 'SR 77', 'SR 75', 'SR 65', 'SR 53'], dtype=object)"
      ]
     },
     "execution_count": 44,
     "metadata": {},
     "output_type": "execute_result"
    }
   ],
   "source": [
    "sysdata[:,1]"
   ]
  },
  {
   "cell_type": "code",
   "execution_count": 45,
   "metadata": {},
   "outputs": [],
   "source": [
    "mask = np.in1d(active_relays, sysdata[:,0])\n"
   ]
  },
  {
   "cell_type": "code",
   "execution_count": 46,
   "metadata": {},
   "outputs": [],
   "source": [
    "mask2 = np.in1d(active_relays, sysdata[:,1])"
   ]
  },
  {
   "cell_type": "code",
   "execution_count": 47,
   "metadata": {},
   "outputs": [],
   "source": [
    "sysdata_in = sysdata[:,0]"
   ]
  },
  {
   "cell_type": "code",
   "execution_count": 48,
   "metadata": {},
   "outputs": [],
   "source": [
    "relaymult1 = active_relays[mask]"
   ]
  },
  {
   "cell_type": "code",
   "execution_count": 49,
   "metadata": {},
   "outputs": [
    {
     "data": {
      "text/plain": [
       "array(['SR 51', 'AR 2', 'AR 3', 'AR 4'], dtype=object)"
      ]
     },
     "execution_count": 49,
     "metadata": {},
     "output_type": "execute_result"
    }
   ],
   "source": [
    "relaymult1"
   ]
  },
  {
   "cell_type": "code",
   "execution_count": 50,
   "metadata": {},
   "outputs": [],
   "source": [
    "relaymult2 = active_relays[mask2]"
   ]
  },
  {
   "cell_type": "code",
   "execution_count": 51,
   "metadata": {},
   "outputs": [
    {
     "data": {
      "text/plain": [
       "array(['SR 53', 'SR 54', 'SR 65', 'SR 75'], dtype=object)"
      ]
     },
     "execution_count": 51,
     "metadata": {},
     "output_type": "execute_result"
    }
   ],
   "source": [
    "relaymult2"
   ]
  },
  {
   "cell_type": "code",
   "execution_count": 52,
   "metadata": {},
   "outputs": [],
   "source": [
    "### Check if relays occur twice on relay multiplications list ###"
   ]
  },
  {
   "cell_type": "code",
   "execution_count": 53,
   "metadata": {},
   "outputs": [],
   "source": [
    "test = np.where(relaymult1[0] in sysdata[0,0])"
   ]
  },
  {
   "cell_type": "code",
   "execution_count": 54,
   "metadata": {},
   "outputs": [
    {
     "data": {
      "text/plain": [
       "True"
      ]
     },
     "execution_count": 54,
     "metadata": {},
     "output_type": "execute_result"
    }
   ],
   "source": [
    "relaymult1[0] in sysdata[0,0]"
   ]
  },
  {
   "cell_type": "code",
   "execution_count": 55,
   "metadata": {},
   "outputs": [
    {
     "data": {
      "text/plain": [
       "array([['SR 51', 'SR 54']], dtype=object)"
      ]
     },
     "execution_count": 55,
     "metadata": {},
     "output_type": "execute_result"
    }
   ],
   "source": [
    "sysdata[test]"
   ]
  },
  {
   "cell_type": "code",
   "execution_count": 56,
   "metadata": {},
   "outputs": [],
   "source": [
    "###check if relays are in alarm_unique ###"
   ]
  },
  {
   "cell_type": "code",
   "execution_count": null,
   "metadata": {},
   "outputs": [],
   "source": []
  },
  {
   "cell_type": "code",
   "execution_count": 57,
   "metadata": {},
   "outputs": [],
   "source": [
    "#### need to find a way to put these in the active list as [External Digital Input 2, AR 1, AR 5, ... etc] ####\n",
    "ext_1 = ext_relays.loc[(ext_relays['Manual ON via DI'] == 'External Digital Input 1')].values\n",
    "ext_2 = ext_relays.loc[(ext_relays['Manual ON via DI'] == 'External Digital Input 2')].values\n",
    "ext_3 = ext_relays.loc[(ext_relays['Manual ON via DI'] == 'External Digital Input 3')].values\n",
    "ext_4 = ext_relays.loc[(ext_relays['Manual ON via DI'] == 'External Digital Input 4')].values"
   ]
  },
  {
   "cell_type": "code",
   "execution_count": 58,
   "metadata": {},
   "outputs": [],
   "source": [
    "if ext_1.size != 0:\n",
    "    ext_1 = np.unique(ext_2).tolist()\n",
    "    ext_1.insert(0, ext_1.pop(ext_1.index('External Digital Input 1')))\n",
    "    active.append(ext_1)\n",
    "if ext_2.size != 0:\n",
    "    ext_2 = np.unique(ext_2).tolist()\n",
    "    ext_2.insert(0, ext_2.pop(ext_2.index('External Digital Input 2')))\n",
    "    active.append(ext_2)\n",
    "if ext_3.size != 0:\n",
    "    ext_3 = np.unique(ext_3).tolist()\n",
    "    ext_3.insert(0, ext_3.pop(ext_3.index('External Digital Input 3')))\n",
    "    active.append(ext_3)\n",
    "if ext_4.size != 0:\n",
    "    ext_4 = np.unique(ext_4).tolist()\n",
    "    ext_4.insert(0, ext_4.pop(ext_4.index('External Digital Input 4')))\n",
    "    active.append(ext_4)"
   ]
  },
  {
   "cell_type": "code",
   "execution_count": 59,
   "metadata": {},
   "outputs": [],
   "source": [
    "alarm_unique = np.delete(alarm_unique, np.argwhere(alarm_unique == 'AR 0'))\n",
    "alarm_unique = np.delete(alarm_unique, np.argwhere(alarm_unique == 'SR 0'))"
   ]
  },
  {
   "cell_type": "code",
   "execution_count": 60,
   "metadata": {},
   "outputs": [],
   "source": [
    "alarm_sheet_col_loc = {}"
   ]
  },
  {
   "cell_type": "markdown",
   "metadata": {},
   "source": [
    "# Main LOOP"
   ]
  },
  {
   "cell_type": "code",
   "execution_count": 61,
   "metadata": {},
   "outputs": [],
   "source": [
    "def Non_active_alarms(alarm_sheet_col_loc, col, row_start):\n",
    "    ## Create temporary np array to store the array with info on the non active alarms ##\n",
    "    temp = alarm_sheet_col_loc[alarm_sheet_col_loc != col].values.reshape(alarm_sheet_col_loc.shape[1])\n",
    "\n",
    "    for i in range(0,alarm_sheet_col_loc.shape[1]):\n",
    "        ## Condition for no active alarms ##\n",
    "        if col == None:\n",
    "            col =  int(alarm_sheet_col_loc.iloc[:,i])\n",
    "            ws.write(row_start, col ,'Off',not_active)\n",
    "        else:\n",
    "        ## conditions for not printing over active alarms ##\n",
    "            if np.isnan(temp[i]) == False:\n",
    "                col = temp[i]\n",
    "                ws.write(row_start, col ,'Off',not_active)\n",
    "\n",
    "      \n",
    "    return"
   ]
  },
  {
   "cell_type": "code",
   "execution_count": 62,
   "metadata": {},
   "outputs": [],
   "source": [
    "def active_alarms(alarm_sheet_col_loc, alarm_points, muterelays, row_start):\n",
    "\n",
    "    for i in range(0, len(alarm_points)):\n",
    "        ## Conditions for alarm points containing AR 0 & SR 0 ##\n",
    "        if alarm_points[i] == 'AR 0' or alarm_points[i] == 'SR 0':\n",
    "            col = None\n",
    "            Non_active_alarms(alarm_sheet_col_loc, col, row_start+i)\n",
    "        else:\n",
    "            col = int(alarm_sheet_col_loc[alarm_points[i]])\n",
    "            ### Insert function to check for relay multiplication ###\n",
    "            if alarm_points[i] in muterelays:\n",
    "                alarm_selector = mutable_active\n",
    "            else:\n",
    "                alarm_selector = yes_active\n",
    "            ws.write(row_start+i,col,'On',alarm_selector)\n",
    "\n",
    "            Non_active_alarms(alarm_sheet_col_loc, col, row_start+i)\n",
    "\n",
    "    return"
   ]
  },
  {
   "cell_type": "code",
   "execution_count": 63,
   "metadata": {},
   "outputs": [],
   "source": [
    "def ext_active_alarms(alarm_sheet_col_loc, alarm_points, muterelays, row_start):\n",
    "\n",
    "    ## Conditions for alarm points containing AR 0 & SR 0 ##\n",
    "    if 'AR 0' in alarm_points or 'SR 0' in alarm_points:\n",
    "        col = None\n",
    "        ext_Non_active_alarms(alarm_sheet_col_loc, col, row_start)\n",
    "    else:\n",
    "        col = alarm_sheet_col_loc[alarm_points].values\n",
    "        ### Insert function to check for relay multiplication ###\n",
    "        alarm_selector = yes_active\n",
    "        for i in range(0, col.shape[1]):\n",
    "            ws.write(row_start,col[0,i],'On',alarm_selector)\n",
    "\n",
    "        ext_Non_active_alarms(alarm_sheet_col_loc, col, row_start)\n",
    "\n",
    "    return"
   ]
  },
  {
   "cell_type": "code",
   "execution_count": 64,
   "metadata": {},
   "outputs": [],
   "source": [
    "def ext_Non_active_alarms(alarm_sheet_col_loc, col, row_start):\n",
    "    ## Create temporary np array to store the array with info on the non active alarms ##\n",
    "    temp = alarm_sheet_col_loc.values\n",
    "    mask = np.in1d(temp, col)\n",
    "    mask = ~mask\n",
    "    temp = temp[0,mask]\n",
    "    for i in range(0,len(temp)):\n",
    "        ws.write(row_start, temp[i], 'Off', not_active)\n",
    "#     for i in range(0,alarm_sheet_col_loc.shape[1]):\n",
    "#         ## Condition for no active alarms ##\n",
    "#         if col == None:\n",
    "#             col =  int(alarm_sheet_col_loc.iloc[:,i])\n",
    "#             ws.write(row_start, col ,'Off',not_active)\n",
    "#         else:\n",
    "#         ## conditions for not printing over active alarms ##\n",
    "#             if np.isnan(temp[i]) == False:\n",
    "#                 col = temp[i]\n",
    "#                 ws.write(row_start, col ,'Off',not_active)\n",
    "\n",
    "      \n",
    "    return"
   ]
  },
  {
   "cell_type": "code",
   "execution_count": 66,
   "metadata": {},
   "outputs": [
    {
     "name": "stdout",
     "output_type": "stream",
     "text": [
      "page #  1\n",
      "['Digital', 1, '0 - 100 %LEL Methane', '15.0 %LEL', '15.0 %LEL', '25.0 %LEL', '25.0 %LEL', 'AR 3', 'AR 5', 'AR 6', 'SR 51']\n",
      "['Digital', 2, '0 - 150 ppm Carbon monoxide', '20.0 ppm', '20.0 ppm', '30.0 ppm', '30.0 ppm', 'AR 2', 'AR 5', 'AR 6', 'SR 53']\n",
      "['Digital', 3, '0 - 25 %Vol Oxygen', '19.5 %Vol', '19.5 %Vol', '18.5 %Vol', '18.5 %Vol', 'AR 4', 'AR 5', 'AR 6', 'SR 50']\n",
      "['Digital', 4, '0 - 100 %LEL Methane', '15.0 %LEL', '15.0 %LEL', '25.0 %LEL', '25.0 %LEL', 'AR 3', 'AR 5', 'AR 6', 'SR 51']\n",
      "['Digital', 5, '0 - 150 ppm Carbon monoxide', '20.0 ppm', '20.0 ppm', '30.0 ppm', '30.0 ppm', 'AR 2', 'AR 5', 'AR 6', 'SR 53']\n",
      "page #  2\n",
      "['Digital', 6, '0 - 25 %Vol Oxygen', '19.5 %Vol', '19.5 %Vol', '18.5 %Vol', '18.5 %Vol', 'AR 4', 'AR 5', 'AR 6', 'SR 50']\n",
      "['Digital', 7, '0 - 100 %LEL Methane', '15.0 %LEL', '15.0 %LEL', '25.0 %LEL', '25.0 %LEL', 'AR 3', 'AR 5', 'AR 6', 'SR 51']\n",
      "['Digital', 8, '0 - 150 ppm Carbon monoxide', '20.0 ppm', '20.0 ppm', '30.0 ppm', '30.0 ppm', 'AR 3', 'AR 5', 'AR 6', 'SR 53']\n",
      "['Digital', 9, '0 - 25 %Vol Oxygen', '19.5 %Vol', '19.5 %Vol', '18.5 %Vol', '18.5 %Vol', 'AR 4', 'AR 5', 'AR 6', 'SR 50']\n",
      "['Analog', 18, '0 - 150 ppm Carbon monoxide', '0.0 ppm', '0.0 ppm', '0.0 ppm', '0.0 ppm', 'AR 0', 'AR 0', 'AR 0', 'AR 0']\n",
      "page #  3\n",
      "['Analog', 19, '0 - 150 ppm Carbon monoxide', '0.0 ppm', '0.0 ppm', '0.0 ppm', '0.0 ppm', 'AR 0', 'AR 0', 'AR 0', 'AR 0']\n",
      "['Analog', 20, '0 - 150 ppm Carbon monoxide', '0.0 ppm', '0.0 ppm', '0.0 ppm', '0.0 ppm', 'AR 0', 'AR 0', 'AR 0', 'AR 0']\n",
      "['Analog', 21, '0 - 150 ppm Carbon monoxide', '0.0 ppm', '0.0 ppm', '0.0 ppm', '0.0 ppm', 'AR 0', 'AR 0', 'AR 0', 'AR 0']\n",
      "['Analog', 22, '0 - 150 ppm Carbon monoxide', '0.0 ppm', '0.0 ppm', '0.0 ppm', '0.0 ppm', 'AR 0', 'AR 0', 'AR 0', 'AR 0']\n",
      "['Analog', 23, '0 - 150 ppm Carbon monoxide', '0.0 ppm', '0.0 ppm', '0.0 ppm', '0.0 ppm', 'AR 0', 'AR 0', 'AR 0', 'AR 0']\n",
      "page #  4\n",
      "['Analog', 24, '0 - 150 ppm Carbon monoxide', '0.0 ppm', '0.0 ppm', '0.0 ppm', '0.0 ppm', 'AR 0', 'AR 0', 'AR 0', 'AR 0']\n",
      "['Analog', 26, '0 - 300 ppm Carbon monoxide', '30.0 ppm', '60.0 ppm', '150.0 ppm', '150.0 ppm', 'AR 1', 'AR 2', 'AR 3', 'AR 4']\n",
      "['Analog', 27, '0 - 300 ppm Carbon monoxide', '30.0 ppm', '60.0 ppm', '150.0 ppm', '150.0 ppm', 'AR 1', 'AR 2', 'AR 3', 'AR 4']\n",
      "['Analog', 28, '0 - 300 ppm Carbon monoxide', '30.0 ppm', '60.0 ppm', '150.0 ppm', '150.0 ppm', 'AR 1', 'AR 2', 'AR 3', 'AR 4']\n",
      "['Analog', 29, '0 - 300 ppm Carbon monoxide', '30.0 ppm', '60.0 ppm', '150.0 ppm', '150.0 ppm', 'AR 1', 'AR 2', 'AR 3', 'AR 4']\n",
      "page #  5\n",
      "['Analog', 30, '0 - 300 ppm Carbon monoxide', '30.0 ppm', '60.0 ppm', '150.0 ppm', '150.0 ppm', 'AR 1', 'AR 2', 'AR 3', 'AR 4']\n",
      "['External Digital Input 2', 'AR 1', 'AR 5', 'AR 6', 'SR 50', 'SR 51', 'SR 53', 'SR 54']\n",
      "['External Digital Input 3', 'AR 2', 'AR 3', 'AR 8']\n",
      "['External Digital Input 4', 'AR 4']\n"
     ]
    }
   ],
   "source": [
    "####### Iterate over number of pages required to fit the sensors ########\n",
    "## int(len(active)/4) + (len(active)%4>0) gives us the number of pages ##\n",
    "number_of_pages = int(len(active)/5) + (len(active)%5 >0) ## calculate number of pages required\n",
    "column_start = 3\n",
    "\n",
    "\n",
    "## Convert locations of alarm columns to dataframe for easier processing ##\n",
    "alarm_sheet_col_loc = pd.DataFrame(alarm_sheet_col_loc)\n",
    "\n",
    "\n",
    "for i in range(0, number_of_pages):\n",
    "    print('page # ', i+1)\n",
    "    ## Setup for iteration across pages##\n",
    "    page = i+1\n",
    "    iter_range = page*5\n",
    "    init_range = (page*5)-5\n",
    "    \n",
    "    ## Check for last page and iterate only between the printed cells ##\n",
    "    if page == (int(len(active)/5) + (len(active)%5>0)):\n",
    "        iter_range = page*5 - (5- len(active)%5)\n",
    "     \n",
    "    ## Iteration per page ##\n",
    "    for k in range(init_range,iter_range):\n",
    "        temp = active[k]\n",
    "        print(temp)\n",
    "        ### Find the start of the column for printing out the heading table for sensors ###\n",
    "        row_start = 9+(page-1)*45 + (k-init_range)*7\n",
    "        \n",
    "        ### Print the heading columns for the sensors ###\n",
    "        for j in range(0,len(alarm_unique)):\n",
    "            ws.merge_range( row_start, column_start, row_start+1, column_start, alarm_unique[j], alarmheading)\n",
    "            ### copy the location of the alarm columns\n",
    "            alarm_sheet_col_loc[str(alarm_unique[j])] = [column_start]\n",
    "            column_start = column_start+1\n",
    "            \n",
    "        column_start = 3\n",
    "        #####################################\n",
    "        #### Print Block for the sensors ####\n",
    "        #####################################\n",
    "        # Isolate the alarm points from temporary list#\n",
    "        \n",
    "        if 'External' in str(temp[0]):\n",
    "            ## using if then to differentiate sensor alarm_points and external alarm points ##\n",
    "            ws.merge_range(row_start+2, 0, row_start+2, 2, temp[0], normal)\n",
    "            alarm_points = temp[1:len(temp)]\n",
    "            ext_active_alarms(alarm_sheet_col_loc, alarm_points, muterelays, row_start+2)\n",
    "\n",
    "        else:\n",
    "            alarm_points = temp[7:len(temp)]\n",
    "        ### iterate and print active / non active alarms for each threshold ###\n",
    "            active_alarms(alarm_sheet_col_loc, alarm_points, muterelays, row_start+2)\n",
    "\n",
    "            \n",
    "\n",
    "            ws.merge_range(row_start, 0, row_start, 1, temp[0] + ' Sensor ' + str(temp[1]), normal)\n",
    "            ws.merge_range(row_start+1, 0, row_start+1, 2, temp[2], normal)\n",
    "            ws.merge_range(row_start+2, 0, row_start+2, 1, 'Threshold 1', normal)\n",
    "            ws.merge_range(row_start+3, 0, row_start+3, 1, 'Threshold 2', normal)\n",
    "            ws.merge_range(row_start+4, 0, row_start+4, 1, 'Threshold 3', normal)\n",
    "            ws.merge_range(row_start+5, 0, row_start+5, 1, 'Threshold 4', normal)\n",
    "            ws.write(row_start+2,2, temp[3],normal)\n",
    "            ws.write(row_start+3,2, temp[4],normal)\n",
    "            ws.write(row_start+4,2, temp[5],normal)\n",
    "            ws.write(row_start+5,2, temp[6],normal)\n",
    "        \n",
    "        ### Check Last Page ### \n",
    "        \n",
    "\n",
    "\n",
    "        \n",
    "   \n",
    "        \n",
    "        \n",
    "        \n",
    "#         print(temp)\n"
   ]
  },
  {
   "cell_type": "code",
   "execution_count": null,
   "metadata": {},
   "outputs": [],
   "source": []
  },
  {
   "cell_type": "code",
   "execution_count": 78,
   "metadata": {},
   "outputs": [
    {
     "data": {
      "text/plain": [
       "11"
      ]
     },
     "execution_count": 78,
     "metadata": {},
     "output_type": "execute_result"
    }
   ],
   "source": [
    "len(alarm_sheet_col_loc.values.tolist()[-1])"
   ]
  },
  {
   "cell_type": "code",
   "execution_count": null,
   "metadata": {},
   "outputs": [],
   "source": []
  },
  {
   "cell_type": "code",
   "execution_count": null,
   "metadata": {},
   "outputs": [],
   "source": []
  },
  {
   "cell_type": "code",
   "execution_count": 68,
   "metadata": {},
   "outputs": [],
   "source": [
    "workbook.close()"
   ]
  },
  {
   "cell_type": "code",
   "execution_count": null,
   "metadata": {},
   "outputs": [],
   "source": []
  }
 ],
 "metadata": {
  "kernelspec": {
   "display_name": "Python 3",
   "language": "python",
   "name": "python3"
  },
  "language_info": {
   "codemirror_mode": {
    "name": "ipython",
    "version": 3
   },
   "file_extension": ".py",
   "mimetype": "text/x-python",
   "name": "python",
   "nbconvert_exporter": "python",
   "pygments_lexer": "ipython3",
   "version": "3.7.9"
  }
 },
 "nbformat": 4,
 "nbformat_minor": 4
}
